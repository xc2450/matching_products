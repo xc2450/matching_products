{
 "cells": [
  {
   "cell_type": "code",
   "execution_count": 58,
   "id": "based-humanity",
   "metadata": {},
   "outputs": [],
   "source": [
    "import pandas as pd\n",
    "import numpy as np\n",
    "import fasttext\n",
    "import operator\n",
    "import fasttext.util\n",
    "from collections import defaultdict\n",
    "import nltk\n",
    "import math"
   ]
  },
  {
   "cell_type": "code",
   "execution_count": 59,
   "id": "patent-interpretation",
   "metadata": {},
   "outputs": [],
   "source": [
    "sample_bec = pd.read_csv('amostra_bec.csv')\n",
    "sample_nfe = pd.read_csv('amostra_nfe.csv')"
   ]
  },
  {
   "cell_type": "code",
   "execution_count": 5,
   "id": "exceptional-influence",
   "metadata": {},
   "outputs": [
    {
     "name": "stderr",
     "output_type": "stream",
     "text": [
      "Warning : `load_model` does not return WordVectorModel or SupervisedModel any more, but a `FastText` object which is very similar.\n"
     ]
    }
   ],
   "source": [
    "# load fasttext word embedding \n",
    "ft = fasttext.load_model('cc.pt.300.bin')"
   ]
  },
  {
   "cell_type": "code",
   "execution_count": 62,
   "id": "surprised-slovakia",
   "metadata": {},
   "outputs": [],
   "source": [
    "# create a dictionary of units and normalize units\n",
    "std_units = list(set(sample_bec['nm_un_fornec']))\n",
    "com_units = list(set(sample_nfe['unid_comercial']))\n",
    "unit_dict = {\n",
    " 'UND':'UNIDADE',\n",
    " 'pct':'PACOTE',\n",
    " 'PC':'PACOTE',\n",
    " 'un':'UNIDADE', \n",
    " 'UNID.':'UNIDADE',\n",
    " 'PT':'UNIDADE',\n",
    " 'kg':'QUILOGRAMA',\n",
    " 'KG':'QUILOGRAMA',\n",
    " 'PCT':'PACOTE',\n",
    " 'DZ':'DUZIA',\n",
    " 'FD':'FARDO',\n",
    " 'GL':'GALAO',\n",
    " 'FR':'FRASCO',\n",
    " 'PCTE':'PACOTE',\n",
    " 'pc':'PACOTE',\n",
    " 'PÇ':'PACOTE',\n",
    " 'DP':'DP',\n",
    " 'dz':'DUZIA',\n",
    " 'CX':'CAIXA',\n",
    " 'PÇA':'PCA',\n",
    " 'UN':'UNIDADE',\n",
    " 'CAIXA':'CAIXA',\n",
    " 'LT':'LITRO',\n",
    " '-':'-',\n",
    " 'PCS':'PCS'\n",
    "}\n",
    "sample_nfe['unid_comercial'] =sample_nfe['unid_comercial'].apply(lambda x: unit_dict[x])"
   ]
  },
  {
   "cell_type": "code",
   "execution_count": 63,
   "id": "relative-enterprise",
   "metadata": {},
   "outputs": [],
   "source": [
    "# normalize text and replace special characters\n",
    "text_normal = {\n",
    "    \"Á\":\"A\",\n",
    "    \"À\":\"A\",\n",
    "    \"Ã\":\"A\",\n",
    "    \"Â\":\"A\",\n",
    "    \"É\":\"E\",\n",
    "    \"È\":\"E\",\n",
    "    \"Ê\":\"E\",\n",
    "    \"Í\":\"I\",\n",
    "    \"Ì\":\"I\",\n",
    "    \"Î\":\"I\",\n",
    "    \"Ó\":\"O\",\n",
    "    \"Ò\":\"O\",\n",
    "    \"Õ\":\"O\",\n",
    "    \"Ô\":\"O\",\n",
    "    \"Ú\":\"U\",\n",
    "    \"Ù\":\"U\",\n",
    "    \"Û\":\"U\",\n",
    "    \"Ç\":\"C\"\n",
    "}\n",
    "\n",
    "def normalize(string):\n",
    "    s = ''\n",
    "    alpha_num = 'ABCDEFGHIJKLMNOPQRSTUVWXYZ0123456789'\n",
    "    for i in string:\n",
    "        if i in text_normal.keys():\n",
    "            s+=text_normal[i]\n",
    "        elif i not in alpha_num:\n",
    "            s+= ' '\n",
    "        else:\n",
    "            s+=i\n",
    "    return s\n",
    "\n",
    "sample_bec['descr_item'] =sample_bec['descr_item'].apply(lambda x: normalize(x))\n",
    "sample_nfe['descr_prod'] =sample_nfe['descr_prod'].apply(lambda x: normalize(x))"
   ]
  },
  {
   "cell_type": "code",
   "execution_count": 67,
   "id": "intense-brunswick",
   "metadata": {},
   "outputs": [],
   "source": [
    "# compile a list of candidate BEC codes\n",
    "cod_dict = defaultdict(list)\n",
    "cod_item = defaultdict(list)\n",
    "for index,row in sample_bec.iterrows():\n",
    "    descr = row['descr_item'].split()\n",
    "    unit = row['nm_un_fornec'].split()\n",
    "    if row['cod_item'] not in cod_item[row['CODIGOLICITACAO']]:\n",
    "        cod_dict[row['CODIGOLICITACAO']].append((row['cod_item'], descr+unit))\n",
    "    cod_item[row['CODIGOLICITACAO']].append(row['cod_item'])\n",
    "    \n",
    "# compile a list of stopwords\n",
    "stopwords = nltk.corpus.stopwords.words('portuguese')\n",
    "for i in range(len(stopwords)):\n",
    "    stopwords[i] = normalize(stopwords[i].upper())\n",
    "    \n",
    "def jaccard(list1, list2):\n",
    "    intersection = len(list(set(list1).intersection(list2)))\n",
    "    union = (len(list1) + len(list2)) - intersection\n",
    "    return float(intersection) / union\n",
    "\n",
    "def match_BEC(s,l):\n",
    "    s = [i for i in s if i not in stopwords]\n",
    "    scores = {}\n",
    "    for bec in l:\n",
    "        temp = [i for i in bec[1] if i not in stopwords]\n",
    "        scores[bec[0]] = jaccard(s,temp)\n",
    "    sorted_dict = sorted(scores.items(), key=operator.itemgetter(1))\n",
    "    if len(sorted_dict) > 1 and sorted_dict[-2][1] != 0:\n",
    "        conf_score = (sorted_dict[-1][1]-sorted_dict[-2][1])/sorted_dict[-2][1]\n",
    "    elif len(sorted_dict) > 1 and sorted_dict[-2][1] == 0 and sorted_dict[-1][1] != 0:\n",
    "        conf_score = 1000\n",
    "    elif len(sorted_dict) > 1 and sorted_dict[-2][1] == 0 and sorted_dict[-1][1] == 0:\n",
    "        conf_score = 0\n",
    "    else:\n",
    "        conf_score = np.nan\n",
    "    return max(scores.items(), key=operator.itemgetter(1))[0], conf_score\n",
    "match_dict = defaultdict(int)\n",
    "conf_scores = defaultdict(float)\n",
    "for index,row in sample_nfe.iterrows():\n",
    "    descr = row['descr_prod'].split()\n",
    "    unit = row['unid_comercial'].split()\n",
    "    s = descr+unit\n",
    "    match_dict[index],conf_scores[index] = match_BEC(s,cod_dict[row['CODIGOLICITACAO']])"
   ]
  },
  {
   "cell_type": "code",
   "execution_count": 68,
   "id": "banned-alexandria",
   "metadata": {},
   "outputs": [],
   "source": [
    "count_nan = 0\n",
    "count_max = 0\n",
    "count_0 = 0\n",
    "other_scores = []\n",
    "for i in conf_scores.values():\n",
    "    if math.isnan(i):\n",
    "        count_nan+=1\n",
    "    elif i==1000:\n",
    "        count_max+=1\n",
    "    elif i==0:\n",
    "        count_0+=1\n",
    "    else:\n",
    "        other_scores.append(i)"
   ]
  },
  {
   "cell_type": "code",
   "execution_count": 80,
   "id": "synthetic-shade",
   "metadata": {},
   "outputs": [
    {
     "data": {
      "text/plain": [
       "0.19083969465648856"
      ]
     },
     "execution_count": 80,
     "metadata": {},
     "output_type": "execute_result"
    }
   ],
   "source": [
    "count_nan/len(conf_scores)"
   ]
  },
  {
   "cell_type": "code",
   "execution_count": 79,
   "id": "balanced-quilt",
   "metadata": {},
   "outputs": [
    {
     "data": {
      "text/plain": [
       "0.05343511450381679"
      ]
     },
     "execution_count": 79,
     "metadata": {},
     "output_type": "execute_result"
    }
   ],
   "source": [
    "count_0/len(conf_scores)"
   ]
  },
  {
   "cell_type": "code",
   "execution_count": 78,
   "id": "catholic-conservative",
   "metadata": {},
   "outputs": [
    {
     "data": {
      "text/plain": [
       "0.08396946564885496"
      ]
     },
     "execution_count": 78,
     "metadata": {},
     "output_type": "execute_result"
    }
   ],
   "source": [
    "count_max/len(conf_scores)"
   ]
  },
  {
   "cell_type": "code",
   "execution_count": 82,
   "id": "arctic-dakota",
   "metadata": {},
   "outputs": [
    {
     "data": {
      "text/plain": [
       "[Text(0.5, 0, 'confidence score')]"
      ]
     },
     "execution_count": 82,
     "metadata": {},
     "output_type": "execute_result"
    },
    {
     "data": {
      "image/png": "[encoded data removed]",
      "text/plain": [
       "<Figure size 432x288 with 1 Axes>"
      ]
     },
     "metadata": {
      "needs_background": "light"
     },
     "output_type": "display_data"
    }
   ],
   "source": [
    "import numpy as np\n",
    "import pandas as pd\n",
    "import seaborn as sns\n",
    "import matplotlib.pyplot as plt\n",
    "\n",
    "ax = sns.histplot(x=other_scores)\n",
    "ax.set(xlabel='confidence score')\n",
    "\n",
    "kwargs = {'cumulative': True}\n",
    "ax = sns.distplot(other_scores, hist_kws=kwargs, kde_kws=kwargs)\n",
    "ax.set_xticks(range(0,8))\n",
    "ax.set(xlabel='confidence score', ylabel='Density')\n"
   ]
  },
  {
   "cell_type": "markdown",
   "id": "missing-heart",
   "metadata": {},
   "source": [
    "# Calculate distinct BEC codes"
   ]
  },
  {
   "cell_type": "code",
   "execution_count": 45,
   "id": "aging-appreciation",
   "metadata": {},
   "outputs": [],
   "source": [
    "sample_bec = pd.read_csv('descriptions_1920_bec.csv')\n",
    "sample_nfe = pd.read_csv('descriptions_1920_nfe.csv')"
   ]
  },
  {
   "cell_type": "code",
   "execution_count": 51,
   "id": "cutting-worth",
   "metadata": {},
   "outputs": [],
   "source": [
    "BEC_count = defaultdict(list)\n",
    "item_count = defaultdict(int)\n",
    "for index,row in sample_bec.iterrows():\n",
    "    if row['descr_item'] not in BEC_count[row['codigo']]:\n",
    "        BEC_count[row['codigo']].append(row['descr_item'])\n",
    "for index,row in sample_nfe.iterrows():\n",
    "    item_count[row['codigo']]+=1"
   ]
  },
  {
   "cell_type": "code",
   "execution_count": 52,
   "id": "generous-charleston",
   "metadata": {},
   "outputs": [],
   "source": [
    "for i in BEC_count:\n",
    "    BEC_count[i] = len(BEC_count[i])"
   ]
  },
  {
   "cell_type": "code",
   "execution_count": 55,
   "id": "norwegian-wound",
   "metadata": {},
   "outputs": [],
   "source": [
    "matrix = np.zeros((26,12))\n",
    "for i in item_count:  \n",
    "    if item_count[i] >= 26:\n",
    "        count = 26\n",
    "    else:\n",
    "        count = item_count[i]\n",
    "    if BEC_count[i] >= 12:\n",
    "        bec = 12\n",
    "    else:\n",
    "        bec = BEC_count[i]\n",
    "    matrix[count-1][bec-1]+=1"
   ]
  },
  {
   "cell_type": "code",
   "execution_count": 56,
   "id": "sudden-catalog",
   "metadata": {},
   "outputs": [],
   "source": [
    "matrix = matrix.astype(int)\n",
    "np.savetxt('table.csv', matrix, fmt=\"%d\", delimiter=\",\")\n"
   ]
  },
  {
   "cell_type": "code",
   "execution_count": 57,
   "id": "young-aside",
   "metadata": {},
   "outputs": [
    {
     "name": "stderr",
     "output_type": "stream",
     "text": [
      "/Users/xichen/anaconda3/lib/python3.7/site-packages/seaborn/distributions.py:2557: FutureWarning: `distplot` is a deprecated function and will be removed in a future version. Please adapt your code to use either `displot` (a figure-level function with similar flexibility) or `histplot` (an axes-level function for histograms).\n",
      "  warnings.warn(msg, FutureWarning)\n"
     ]
    },
    {
     "data": {
      "text/plain": [
       "[Text(0, 0.5, 'Density'), Text(0.5, 0, '#distinct BEC codes')]"
      ]
     },
     "execution_count": 57,
     "metadata": {},
     "output_type": "execute_result"
    },
    {
     "data": {
      "image/png": "[encoded data removed]",
      "text/plain": [
       "<Figure size 432x288 with 1 Axes>"
      ]
     },
     "metadata": {
      "needs_background": "light"
     },
     "output_type": "display_data"
    }
   ],
   "source": [
    "import numpy as np\n",
    "import pandas as pd\n",
    "import seaborn as sns\n",
    "import matplotlib.pyplot as plt\n",
    "\n",
    "kwargs = {'cumulative': True}\n",
    "ax = sns.distplot(list(BEC_count.values()), hist_kws=kwargs, kde_kws=kwargs)\n",
    "ax.set(xlabel='#distinct BEC codes', ylabel='Density')\n"
   ]
  },
  {
   "cell_type": "markdown",
   "id": "several-bahrain",
   "metadata": {},
   "source": [
    "# Clean up data format"
   ]
  },
  {
   "cell_type": "code",
   "execution_count": 37,
   "id": "trained-fever",
   "metadata": {},
   "outputs": [],
   "source": [
    "sample = pd.read_csv('amostra.csv')"
   ]
  },
  {
   "cell_type": "code",
   "execution_count": 38,
   "id": "wound-titanium",
   "metadata": {},
   "outputs": [],
   "source": [
    "BEC = sample[['CODIGOLICITACAO','num_seq_item','cod_item','descr_item', 'nm_un_fornec']].drop_duplicates().reset_index(drop=True)\n",
    "Nfe = sample[['CODIGOLICITACAO','descr_prod','unid_comercial','cod_gtin','cod_ncm']].drop_duplicates().reset_index(drop=True)\n"
   ]
  },
  {
   "cell_type": "code",
   "execution_count": 39,
   "id": "historical-application",
   "metadata": {},
   "outputs": [],
   "source": [
    "BEC.to_csv('amostra_bec.csv')"
   ]
  },
  {
   "cell_type": "code",
   "execution_count": 40,
   "id": "unlikely-moldova",
   "metadata": {},
   "outputs": [],
   "source": [
    "Nfe.to_csv('amostra_nfe.csv')"
   ]
  },
  {
   "cell_type": "code",
   "execution_count": 41,
   "id": "alike-saver",
   "metadata": {},
   "outputs": [],
   "source": [
    "sample = pd.read_csv('descriptions_1920.csv')"
   ]
  },
  {
   "cell_type": "code",
   "execution_count": 42,
   "id": "included-powell",
   "metadata": {},
   "outputs": [],
   "source": [
    "BEC = sample[['codigo','num_seq_item','cod_item','descr_item', 'nm_un_fornec']].drop_duplicates().reset_index(drop=True)\n",
    "Nfe = sample[['codigo','descr_prod','unid_comercial','cod_gtin','cod_ncm','id']].drop_duplicates().reset_index(drop=True)\n"
   ]
  },
  {
   "cell_type": "code",
   "execution_count": 43,
   "id": "fitting-geometry",
   "metadata": {},
   "outputs": [],
   "source": [
    "BEC.to_csv('descriptions_1920_bec.csv')\n",
    "Nfe.to_csv('descriptions_1920_nfe.csv')"
   ]
  }
 ],
 "metadata": {
  "kernelspec": {
   "display_name": "Python 3",
   "language": "python",
   "name": "python3"
  },
  "language_info": {
   "codemirror_mode": {
    "name": "ipython",
    "version": 3
   },
   "file_extension": ".py",
   "mimetype": "text/x-python",
   "name": "python",
   "nbconvert_exporter": "python",
   "pygments_lexer": "ipython3",
   "version": "3.7.2"
  }
 },
 "nbformat": 4,
 "nbformat_minor": 5
}
